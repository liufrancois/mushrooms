{
 "cells": [
  {
   "cell_type": "code",
   "execution_count": 1,
   "metadata": {},
   "outputs": [],
   "source": [
    "import pandas as pd\n",
    "import warnings\n",
    "warnings.filterwarnings(\"ignore\")"
   ]
  },
  {
   "cell_type": "code",
   "execution_count": 2,
   "metadata": {},
   "outputs": [
    {
     "name": "stdout",
     "output_type": "stream",
     "text": [
      "  TYPE         COLOR       SHAPE     SURFACE\n",
      "0    I          Pale    Polypore      Smooth\n",
      "1    E         White      Convex      Smooth\n",
      "2    E  White-Yellow      Convex      Smooth\n",
      "3    E         Brown  Bellshaped  FlatScales\n",
      "4    E           NaN      Convex     Fibrous\n"
     ]
    }
   ],
   "source": [
    "# Ouverture du fichier csv\n",
    "chemin_fichier_csv = r'./champignons.csv'\n",
    "champignons = pd.read_csv(chemin_fichier_csv)\n",
    "\n",
    "print(champignons.head())"
   ]
  },
  {
   "cell_type": "code",
   "execution_count": 3,
   "metadata": {},
   "outputs": [
    {
     "name": "stdout",
     "output_type": "stream",
     "text": [
      "TYPE\n",
      "E      515\n",
      "P      404\n",
      "I      228\n",
      "NaN     11\n",
      "Name: count, dtype: int64\n",
      "   TYPE         COLOR       SHAPE     SURFACE\n",
      "0   1.0          Pale    Polypore      Smooth\n",
      "1   0.0         White      Convex      Smooth\n",
      "2   0.0  White-Yellow      Convex      Smooth\n",
      "3   0.0         Brown  Bellshaped  FlatScales\n",
      "4   0.0           NaN      Convex     Fibrous\n",
      "TYPE\n",
      " 0.0    515\n",
      " 2.0    404\n",
      " 1.0    228\n",
      "-1.0     11\n",
      "Name: count, dtype: int64\n"
     ]
    }
   ],
   "source": [
    "# Modification des valeur de la collone TYPE\n",
    "print(champignons[\"TYPE\"].value_counts(dropna=False))\n",
    "\n",
    "champignons[\"TYPE\"] = champignons[\"TYPE\"].replace({\"E\": 0, \"I\": 1, \"P\": 2})\n",
    "champignons[\"TYPE\"] = champignons[\"TYPE\"].fillna(-1)\n",
    "\n",
    "print(champignons.head())\n",
    "print(champignons[\"TYPE\"].value_counts(dropna=False))"
   ]
  },
  {
   "cell_type": "code",
   "execution_count": 4,
   "metadata": {},
   "outputs": [
    {
     "name": "stdout",
     "output_type": "stream",
     "text": [
      "   TYPE         COLOR  SHAPE_Polypore  SHAPE_Convex  SHAPE_Bellshaped  \\\n",
      "0   1.0          Pale               1             0                 0   \n",
      "1   0.0         White               0             1                 0   \n",
      "2   0.0  White-Yellow               0             1                 0   \n",
      "3   0.0         Brown               0             0                 1   \n",
      "4   0.0           NaN               0             1                 0   \n",
      "\n",
      "   SHAPE_Depressed  SHAPE_CupFungi  SHAPE_CoralFungi  SHAPE_Conical  \\\n",
      "0                0               0                 0              0   \n",
      "1                0               0                 0              0   \n",
      "2                0               0                 0              0   \n",
      "3                0               0                 0              0   \n",
      "4                0               0                 0              0   \n",
      "\n",
      "   SHAPE_SiddarthMachado  ...  SURFACE_Silky  SURFACE_Velvety  \\\n",
      "0                      0  ...              0                0   \n",
      "1                      0  ...              0                0   \n",
      "2                      0  ...              0                0   \n",
      "3                      0  ...              0                0   \n",
      "4                      0  ...              0                0   \n",
      "\n",
      "   SURFACE_AlanRockefeller  SURFACE_Coltriciaperennis  SURFACE_KymNicolson  \\\n",
      "0                        0                          0                    0   \n",
      "1                        0                          0                    0   \n",
      "2                        0                          0                    0   \n",
      "3                        0                          0                    0   \n",
      "4                        0                          0                    0   \n",
      "\n",
      "   SURFACE_AnnieWeissman  SURFACE_Ganodermaapplanatum  SURFACE_RonPastorino  \\\n",
      "0                      0                            0                     0   \n",
      "1                      0                            0                     0   \n",
      "2                      0                            0                     0   \n",
      "3                      0                            0                     0   \n",
      "4                      0                            0                     0   \n",
      "\n",
      "   SURFACE_chezaaro(AaronS)  SURFACE_RockyHoughtby  \n",
      "0                         0                      0  \n",
      "1                         0                      0  \n",
      "2                         0                      0  \n",
      "3                         0                      0  \n",
      "4                         0                      0  \n",
      "\n",
      "[5 rows x 61 columns]\n"
     ]
    }
   ],
   "source": [
    "# Tranformation des colonnes catégorielles(SHAPE/SURFACE) en colonnes binaires\n",
    "def ajout_indicateur_colonne(df, nom_colonne):\n",
    "    valeur_unique = pd.unique(df[nom_colonne].str.split(\"-\").explode().dropna())\n",
    "    \n",
    "    for value in valeur_unique:\n",
    "        df[f\"{nom_colonne}_{value}\"] = df[nom_colonne].str.contains(value, na=False).astype(int)\n",
    "\n",
    "ajout_indicateur_colonne(champignons, \"SHAPE\")\n",
    "ajout_indicateur_colonne(champignons, \"SURFACE\")\n",
    "\n",
    "champignons = champignons.drop(['SHAPE', 'SURFACE'], axis=1)\n",
    "\n",
    "print(champignons.head())"
   ]
  },
  {
   "cell_type": "code",
   "execution_count": 5,
   "metadata": {},
   "outputs": [
    {
     "name": "stdout",
     "output_type": "stream",
     "text": [
      "['Pale' 'White' 'Yellow' 'Brown' 'Pink' 'Purple' 'Tan' 'Orange' 'Gray'\n",
      " 'Red' 'Black' 'Blue' 'Green' 'Violet' 'Lilac']\n",
      "Nombre total de couleurs uniques : 15\n"
     ]
    }
   ],
   "source": [
    "# Liste des couleurs individuelles présente dans le jeu de données \n",
    "\n",
    "couleurs_individuelles = pd.unique(champignons[\"COLOR\"].str.split(\"-\").explode().dropna())\n",
    "\n",
    "print(couleurs_individuelles)\n",
    "\n",
    "print(f\"Nombre total de couleurs uniques : {len(couleurs_individuelles)}\")"
   ]
  },
  {
   "cell_type": "code",
   "execution_count": 6,
   "metadata": {},
   "outputs": [
    {
     "name": "stdout",
     "output_type": "stream",
     "text": [
      "     Color    R    G    B\n",
      "0     Pale  240  221  215\n",
      "1    White  255  255  255\n",
      "2   Yellow  255  255    0\n",
      "3    Brown  165   42   42\n",
      "4     Pink  255  192  203\n",
      "5   Purple  128    0  128\n",
      "6      Tan  210  180  140\n",
      "7   Orange  255  165    0\n",
      "8     Gray  128  128  128\n",
      "9      Red  255    0    0\n",
      "10   Black    0    0    0\n",
      "11   Green    0  128    0\n",
      "12    Blue    0    0  255\n",
      "13  Violet  238  130  238\n",
      "14   Lilac  200  162  200\n"
     ]
    }
   ],
   "source": [
    "# Création d'un dataframe de toutes les couleurs individuelles\n",
    "\n",
    "colors_list = [\n",
    "    {\"Color\": \"Pale\", \"R\": 240, \"G\": 221, \"B\": 215},\n",
    "    {\"Color\": \"White\", \"R\": 255, \"G\": 255, \"B\": 255},\n",
    "    {\"Color\": \"Yellow\", \"R\": 255, \"G\": 255, \"B\": 0},\n",
    "    {\"Color\": \"Brown\", \"R\": 165, \"G\": 42, \"B\": 42},\n",
    "    {\"Color\": \"Pink\", \"R\": 255, \"G\": 192, \"B\": 203},\n",
    "    {\"Color\": \"Purple\", \"R\": 128, \"G\": 0, \"B\": 128},\n",
    "    {\"Color\": \"Tan\", \"R\": 210, \"G\": 180, \"B\": 140},\n",
    "    {\"Color\": \"Orange\", \"R\": 255, \"G\": 165, \"B\": 0},\n",
    "    {\"Color\": \"Gray\", \"R\": 128, \"G\": 128, \"B\": 128},\n",
    "    {\"Color\": \"Red\", \"R\": 255, \"G\": 0, \"B\": 0},\n",
    "    {\"Color\": \"Black\", \"R\": 0, \"G\": 0, \"B\": 0}, #Dark\n",
    "    {\"Color\": \"Green\", \"R\": 0, \"G\": 128, \"B\": 0},\n",
    "    {\"Color\": \"Blue\", \"R\": 0, \"G\": 0, \"B\": 255},\n",
    "    {\"Color\": \"Violet\", \"R\": 238, \"G\": 130, \"B\": 238},\n",
    "    {\"Color\": \"Lilac\", \"R\": 200, \"G\": 162, \"B\": 200}\n",
    "]\n",
    "\n",
    "colors_df = pd.DataFrame(colors_list)\n",
    "\n",
    "print(colors_df)"
   ]
  },
  {
   "cell_type": "code",
   "execution_count": 7,
   "metadata": {},
   "outputs": [
    {
     "name": "stdout",
     "output_type": "stream",
     "text": [
      "   Combined_Color\n",
      "0    White-Yellow\n",
      "1     White-Brown\n",
      "2      Pink-Brown\n",
      "3    Purple-Brown\n",
      "4      White-Pale\n",
      "..            ...\n",
      "90     Green-Pink\n",
      "91     Gray-White\n",
      "92       Red-Pale\n",
      "93    Gray-Yellow\n",
      "94     Purple-Red\n",
      "\n",
      "[95 rows x 1 columns]\n"
     ]
    }
   ],
   "source": [
    "# Création d'un dataframe de toutes les couleurs combinées ( ex red + green )\n",
    "\n",
    "couleurs_combinees = champignons[champignons['COLOR'].str.count('-') > 0]\n",
    "combinaisons_uniques = couleurs_combinees['COLOR'].unique()\n",
    "colors = pd.DataFrame({'Combined_Color': combinaisons_uniques})\n",
    "\n",
    "print(colors)"
   ]
  },
  {
   "cell_type": "code",
   "execution_count": 8,
   "metadata": {},
   "outputs": [
    {
     "name": "stdout",
     "output_type": "stream",
     "text": [
      "   Combined_Color  R_mean  G_mean  B_mean\n",
      "0    White-Yellow   255.0   255.0   127.5\n",
      "1     Pink-Yellow   255.0   223.5   101.5\n",
      "2     Pale-Yellow   247.5   238.0   107.5\n",
      "3    Brown-Yellow   210.0   148.5    21.0\n",
      "4     Gray-Yellow   191.5   191.5    64.0\n",
      "..            ...     ...     ...     ...\n",
      "90    Brown-Green    82.5    85.0    21.0\n",
      "91     Gray-Green    64.0   128.0    64.0\n",
      "92   Orange-Green   127.5   146.5     0.0\n",
      "93   Yellow-Green   127.5   191.5     0.0\n",
      "94     Blue-Green     0.0    64.0   127.5\n",
      "\n",
      "[95 rows x 4 columns]\n"
     ]
    }
   ],
   "source": [
    "# Jointure de couleurs unique pour afficher les différentes couleurs conbinées\n",
    "\n",
    "colors['Color1'] = colors['Combined_Color'].str.split('-').str.get(0)\n",
    "colors['Color2'] = colors['Combined_Color'].str.split('-').str.get(1)\n",
    "\n",
    "merge_1 = colors.merge(colors_df, left_on='Color1', right_on='Color', suffixes=('', '_1'))\n",
    "merge_2 = merge_1.merge(colors_df, left_on='Color2', right_on='Color', suffixes=('', '_2'))\n",
    "\n",
    "merge_2['R_mean'] = merge_2[['R', 'R_2']].mean(axis=1)\n",
    "merge_2['G_mean'] = merge_2[['G', 'G_2']].mean(axis=1)\n",
    "merge_2['B_mean'] = merge_2[['B', 'B_2']].mean(axis=1)\n",
    "\n",
    "colors = merge_2[['Combined_Color', 'R_mean', 'G_mean', 'B_mean']]\n",
    "\n",
    "print(colors)"
   ]
  },
  {
   "cell_type": "code",
   "execution_count": 9,
   "metadata": {},
   "outputs": [
    {
     "name": "stdout",
     "output_type": "stream",
     "text": [
      "      TYPE  SHAPE_Polypore  SHAPE_Convex  SHAPE_Bellshaped  SHAPE_Depressed  \\\n",
      "0      1.0               1             0                 0                0   \n",
      "1      0.0               0             1                 0                0   \n",
      "2      0.0               0             1                 0                0   \n",
      "3      0.0               0             0                 1                0   \n",
      "4      0.0               0             1                 0                0   \n",
      "...    ...             ...           ...               ...              ...   \n",
      "1153   1.0               0             0                 0                0   \n",
      "1154   1.0               0             0                 0                0   \n",
      "1155   1.0               0             0                 0                0   \n",
      "1156   1.0               0             0                 0                0   \n",
      "1157   0.0               0             1                 0                0   \n",
      "\n",
      "      SHAPE_CupFungi  SHAPE_CoralFungi  SHAPE_Conical  SHAPE_SiddarthMachado  \\\n",
      "0                  0                 0              0                      0   \n",
      "1                  0                 0              0                      0   \n",
      "2                  0                 0              0                      0   \n",
      "3                  0                 0              0                      0   \n",
      "4                  0                 0              0                      0   \n",
      "...              ...               ...            ...                    ...   \n",
      "1153               0                 1              0                      0   \n",
      "1154               0                 1              0                      0   \n",
      "1155               0                 1              0                      0   \n",
      "1156               0                 1              0                      0   \n",
      "1157               0                 0              0                      0   \n",
      "\n",
      "      SHAPE_harum.koh  ...  SURFACE_Coltriciaperennis  SURFACE_KymNicolson  \\\n",
      "0                   0  ...                          0                    0   \n",
      "1                   0  ...                          0                    0   \n",
      "2                   0  ...                          0                    0   \n",
      "3                   0  ...                          0                    0   \n",
      "4                   0  ...                          0                    0   \n",
      "...               ...  ...                        ...                  ...   \n",
      "1153                0  ...                          0                    0   \n",
      "1154                0  ...                          0                    0   \n",
      "1155                0  ...                          0                    0   \n",
      "1156                0  ...                          0                    0   \n",
      "1157                0  ...                          0                    0   \n",
      "\n",
      "      SURFACE_AnnieWeissman  SURFACE_Ganodermaapplanatum  \\\n",
      "0                         0                            0   \n",
      "1                         0                            0   \n",
      "2                         0                            0   \n",
      "3                         0                            0   \n",
      "4                         0                            0   \n",
      "...                     ...                          ...   \n",
      "1153                      0                            0   \n",
      "1154                      0                            0   \n",
      "1155                      0                            0   \n",
      "1156                      0                            0   \n",
      "1157                      0                            0   \n",
      "\n",
      "      SURFACE_RonPastorino  SURFACE_chezaaro(AaronS)  SURFACE_RockyHoughtby  \\\n",
      "0                        0                         0                      0   \n",
      "1                        0                         0                      0   \n",
      "2                        0                         0                      0   \n",
      "3                        0                         0                      0   \n",
      "4                        0                         0                      0   \n",
      "...                    ...                       ...                    ...   \n",
      "1153                     0                         0                      0   \n",
      "1154                     0                         0                      0   \n",
      "1155                     0                         0                      0   \n",
      "1156                     0                         0                      0   \n",
      "1157                     0                         0                      0   \n",
      "\n",
      "          R      G      B  \n",
      "0    -255.0 -255.0 -255.0  \n",
      "1    -255.0 -255.0 -255.0  \n",
      "2     255.0  255.0  127.5  \n",
      "3    -255.0 -255.0 -255.0  \n",
      "4    -255.0 -255.0 -255.0  \n",
      "...     ...    ...    ...  \n",
      "1153  127.5  127.5  127.5  \n",
      "1154 -255.0 -255.0 -255.0  \n",
      "1155 -255.0 -255.0 -255.0  \n",
      "1156 -255.0 -255.0 -255.0  \n",
      "1157   82.5   21.0   21.0  \n",
      "\n",
      "[1158 rows x 63 columns]\n"
     ]
    }
   ],
   "source": [
    "# Suppression de la collone COLOR maintenant devenu inutile\n",
    "\n",
    "champignons = champignons.merge(colors[['Combined_Color', 'R_mean', 'G_mean', 'B_mean']], how='left', left_on='COLOR', right_on='Combined_Color')\n",
    "champignons.rename(columns={'R_mean': 'R', 'G_mean': 'G', 'B_mean': 'B'}, inplace=True)\n",
    "champignons.drop(columns=['COLOR', 'Combined_Color'], inplace=True)\n",
    "champignons[['R', 'G', 'B']] = champignons[['R', 'G', 'B']].fillna(-255)\n",
    "\n",
    "print(champignons)"
   ]
  },
  {
   "cell_type": "code",
   "execution_count": 10,
   "metadata": {},
   "outputs": [],
   "source": [
    "from sklearn.preprocessing import StandardScaler\n",
    "from sklearn.svm import SVC\n",
    "from sklearn.metrics import accuracy_score\n",
    "from sklearn.model_selection import train_test_split\n",
    "from sklearn.tree import DecisionTreeClassifier"
   ]
  },
  {
   "cell_type": "code",
   "execution_count": 11,
   "metadata": {},
   "outputs": [
    {
     "name": "stdout",
     "output_type": "stream",
     "text": [
      "Taille de l'ensemble d'entraînement : 810\n",
      "Taille de l'ensemble de test : 348\n"
     ]
    }
   ],
   "source": [
    "# Séparation des données en jeux d'entraînement (70%) et de test (30%)\n",
    "\n",
    "X = champignons.drop('TYPE', axis=1) \n",
    "y = champignons['TYPE'] \n",
    "\n",
    "X_train, X_test, y_train, y_test = train_test_split(X, y, test_size=0.3, random_state=1)\n",
    "\n",
    "print(\"Taille de l'ensemble d'entraînement :\", len(X_train))\n",
    "print(\"Taille de l'ensemble de test :\", len(X_test))"
   ]
  },
  {
   "cell_type": "code",
   "execution_count": 12,
   "metadata": {},
   "outputs": [
    {
     "name": "stdout",
     "output_type": "stream",
     "text": [
      "Score de précision: 0.46839080459770116\n"
     ]
    }
   ],
   "source": [
    "# Entraînement d'un modèle SVC et évaluation de son score de précision sur le jeu de test\n",
    "\n",
    "model = SVC(random_state=1)\n",
    "model.fit(X_train, y_train)\n",
    "\n",
    "y_pred = model.predict(X_test)\n",
    "\n",
    "accuracy = accuracy_score(y_test, y_pred)\n",
    "print(f\"Score de précision: {accuracy}\")"
   ]
  },
  {
   "cell_type": "code",
   "execution_count": 13,
   "metadata": {},
   "outputs": [
    {
     "name": "stdout",
     "output_type": "stream",
     "text": [
      "Score de précision (standarisée): 0.5086206896551724\n"
     ]
    }
   ],
   "source": [
    "# Standardisation des données via StandardScaler avant l'entraînement du modèle SVC\n",
    "\n",
    "scaler = StandardScaler()\n",
    "X_train_echelle = scaler.fit_transform(X_train)\n",
    "X_test_echelle = scaler.transform(X_test)\n",
    "\n",
    "model = SVC(random_state=1)\n",
    "model.fit(X_train_echelle, y_train)\n",
    "\n",
    "y_pred = model.predict(X_test_echelle)\n",
    "\n",
    "accuracy = accuracy_score(y_test, y_pred)\n",
    "print(f\"Score de précision (standarisée): {accuracy}\")"
   ]
  },
  {
   "cell_type": "code",
   "execution_count": 14,
   "metadata": {},
   "outputs": [
    {
     "name": "stdout",
     "output_type": "stream",
     "text": [
      "Score précision (non standarisée): 0.5172413793103449\n",
      "Score précision (standarisée): 0.5172413793103449\n"
     ]
    }
   ],
   "source": [
    "# Arbre de décision avec une profondeur maximale de 3\n",
    "\n",
    "tree_model = DecisionTreeClassifier(max_depth=3, random_state=1)\n",
    "tree_model.fit(X_train, y_train)\n",
    "\n",
    "y_pred_tree = tree_model.predict(X_test)\n",
    "\n",
    "accuracy_tree = accuracy_score(y_test, y_pred_tree)\n",
    "print(f\"Score précision (non standarisée): {accuracy_tree}\")\n",
    "\n",
    "tree_model.fit(X_train_echelle, y_train)\n",
    "\n",
    "y_pred_tree_echelle = tree_model.predict(X_test_echelle)\n",
    "\n",
    "accuracy_tree_echelle = accuracy_score(y_test, y_pred_tree_echelle)\n",
    "print(f\"Score précision (standarisée): {accuracy_tree_echelle}\")"
   ]
  },
  {
   "cell_type": "code",
   "execution_count": 15,
   "metadata": {},
   "outputs": [
    {
     "data": {
      "text/plain": [
       "'Source.gv.pdf'"
      ]
     },
     "execution_count": 15,
     "metadata": {},
     "output_type": "execute_result"
    }
   ],
   "source": [
    "# Utilisation de la fonction export_graphviz pour créer une représentation graphique de l'arbre de décision\n",
    "\n",
    "from sklearn.tree import export_graphviz\n",
    "import graphviz\n",
    "\n",
    "feature_names = champignons.columns.drop('TYPE')\n",
    "\n",
    "export_graphviz(tree_model, out_file=\"arbre_decision.dot\", \n",
    "                feature_names=feature_names, \n",
    "                filled=True)\n",
    "\n",
    "with open(\"arbre_decision.dot\") as f:\n",
    "    dot_graph = f.read()\n",
    "graphviz.Source(dot_graph).view()"
   ]
  }
 ],
 "metadata": {
  "kernelspec": {
   "display_name": "Python 3 (ipykernel)",
   "language": "python",
   "name": "python3"
  },
  "language_info": {
   "codemirror_mode": {
    "name": "ipython",
    "version": 3
   },
   "file_extension": ".py",
   "mimetype": "text/x-python",
   "name": "python",
   "nbconvert_exporter": "python",
   "pygments_lexer": "ipython3",
   "version": "3.11.7"
  }
 },
 "nbformat": 4,
 "nbformat_minor": 4
}
