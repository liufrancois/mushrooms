{
 "cells": [
  {
   "cell_type": "code",
   "execution_count": 19,
   "metadata": {},
   "outputs": [],
   "source": [
    "import pandas as pd\n",
    "import warnings\n",
    "warnings.filterwarnings(\"ignore\")"
   ]
  },
  {
   "cell_type": "code",
   "execution_count": 20,
   "metadata": {},
   "outputs": [
    {
     "name": "stdout",
     "output_type": "stream",
     "text": [
      "  TYPE         COLOR       SHAPE     SURFACE\n",
      "0    I          Pale    Polypore      Smooth\n",
      "1    E         White      Convex      Smooth\n",
      "2    E  White-Yellow      Convex      Smooth\n",
      "3    E         Brown  Bellshaped  FlatScales\n",
      "4    E           NaN      Convex     Fibrous\n"
     ]
    }
   ],
   "source": [
    "# Ouverture du fichier csv\n",
    "chemin_fichier_csv = r'./champignons.csv'\n",
    "champignons = pd.read_csv(chemin_fichier_csv)\n",
    "\n",
    "print(champignons.head())"
   ]
  },
  {
   "cell_type": "code",
   "execution_count": 21,
   "metadata": {},
   "outputs": [
    {
     "name": "stdout",
     "output_type": "stream",
     "text": [
      "TYPE\n",
      "E      515\n",
      "P      405\n",
      "I      228\n",
      "NaN     36\n",
      "Name: count, dtype: int64\n",
      "   TYPE         COLOR       SHAPE     SURFACE\n",
      "0   1.0          Pale    Polypore      Smooth\n",
      "1   0.0         White      Convex      Smooth\n",
      "2   0.0  White-Yellow      Convex      Smooth\n",
      "3   0.0         Brown  Bellshaped  FlatScales\n",
      "4   0.0           NaN      Convex     Fibrous\n",
      "TYPE\n",
      " 0.0    515\n",
      " 2.0    405\n",
      " 1.0    228\n",
      "-1.0     36\n",
      "Name: count, dtype: int64\n"
     ]
    }
   ],
   "source": [
    "# Modification des valeur de la collone TYPE\n",
    "print(champignons[\"TYPE\"].value_counts(dropna=False))\n",
    "\n",
    "champignons[\"TYPE\"] = champignons[\"TYPE\"].replace({\"E\": 0, \"I\": 1, \"P\": 2})\n",
    "champignons[\"TYPE\"] = champignons[\"TYPE\"].fillna(-1)\n",
    "\n",
    "print(champignons.head())\n",
    "print(champignons[\"TYPE\"].value_counts(dropna=False))"
   ]
  },
  {
   "cell_type": "code",
   "execution_count": 22,
   "metadata": {},
   "outputs": [
    {
     "name": "stdout",
     "output_type": "stream",
     "text": [
      "   TYPE         COLOR  SHAPE_Polypore  SHAPE_Convex  SHAPE_Bellshaped  \\\n",
      "0   1.0          Pale               1             0                 0   \n",
      "1   0.0         White               0             1                 0   \n",
      "2   0.0  White-Yellow               0             1                 0   \n",
      "3   0.0         Brown               0             0                 1   \n",
      "4   0.0           NaN               0             1                 0   \n",
      "\n",
      "   SHAPE_Depressed  SHAPE_CupFungi  SHAPE_CoralFungi  SHAPE_Conical  \\\n",
      "0                0               0                 0              0   \n",
      "1                0               0                 0              0   \n",
      "2                0               0                 0              0   \n",
      "3                0               0                 0              0   \n",
      "4                0               0                 0              0   \n",
      "\n",
      "   SHAPE_SiddarthMachado  ...  SURFACE_Velvety  SURFACE_AlanRockefeller  \\\n",
      "0                      0  ...                0                        0   \n",
      "1                      0  ...                0                        0   \n",
      "2                      0  ...                0                        0   \n",
      "3                      0  ...                0                        0   \n",
      "4                      0  ...                0                        0   \n",
      "\n",
      "   SURFACE_Coltriciaperennis  SURFACE_KymNicolson  SURFACE_AnnieWeissman  \\\n",
      "0                          0                    0                      0   \n",
      "1                          0                    0                      0   \n",
      "2                          0                    0                      0   \n",
      "3                          0                    0                      0   \n",
      "4                          0                    0                      0   \n",
      "\n",
      "   SURFACE_Ganodermaapplanatum  SURFACE_RonPastorino  \\\n",
      "0                            0                     0   \n",
      "1                            0                     0   \n",
      "2                            0                     0   \n",
      "3                            0                     0   \n",
      "4                            0                     0   \n",
      "\n",
      "   SURFACE_chezaaro(AaronS)  \\\n",
      "0                         0   \n",
      "1                         0   \n",
      "2                         0   \n",
      "3                         0   \n",
      "4                         0   \n",
      "\n",
      "   SURFACE_ArneAronsen/Naturhistoriskmuseum,UniversitetetiOslo  \\\n",
      "0                                                  0             \n",
      "1                                                  0             \n",
      "2                                                  0             \n",
      "3                                                  0             \n",
      "4                                                  0             \n",
      "\n",
      "   SURFACE_RockyHoughtby  \n",
      "0                      0  \n",
      "1                      0  \n",
      "2                      0  \n",
      "3                      0  \n",
      "4                      0  \n",
      "\n",
      "[5 rows x 63 columns]\n"
     ]
    }
   ],
   "source": [
    "# Tranformation des colonnes catégorielles(SHAPE/SURFACE) en colonnes binaires\n",
    "def ajout_indicateur_colonne(df, nom_colonne):\n",
    "    valeur_unique = pd.unique(df[nom_colonne].str.split(\"-\").explode().dropna())\n",
    "    \n",
    "    for value in valeur_unique:\n",
    "        df[f\"{nom_colonne}_{value}\"] = df[nom_colonne].str.contains(value, na=False).astype(int)\n",
    "\n",
    "ajout_indicateur_colonne(champignons, \"SHAPE\")\n",
    "ajout_indicateur_colonne(champignons, \"SURFACE\")\n",
    "\n",
    "champignons = champignons.drop(['SHAPE', 'SURFACE'], axis=1)\n",
    "\n",
    "print(champignons.head())"
   ]
  }
 ],
 "metadata": {
  "kernelspec": {
   "display_name": "Python 3",
   "language": "python",
   "name": "python3"
  },
  "language_info": {
   "codemirror_mode": {
    "name": "ipython",
    "version": 3
   },
   "file_extension": ".py",
   "mimetype": "text/x-python",
   "name": "python",
   "nbconvert_exporter": "python",
   "pygments_lexer": "ipython3",
   "version": "3.11.4"
  }
 },
 "nbformat": 4,
 "nbformat_minor": 2
}
