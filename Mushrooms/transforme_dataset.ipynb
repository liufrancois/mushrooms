{
 "cells": [
  {
   "cell_type": "code",
   "execution_count": 1,
   "id": "092bc74f-7c20-42bd-b50a-4d3ef5396094",
   "metadata": {},
   "outputs": [],
   "source": [
    "import pandas as pd"
   ]
  },
  {
   "cell_type": "markdown",
   "id": "842c1502-09ec-40ab-be69-92807b8638a9",
   "metadata": {},
   "source": [
    "Question 7 : Verification lignes attributs."
   ]
  },
  {
   "cell_type": "code",
   "execution_count": 2,
   "id": "914b57ed-fa2f-4d99-afe8-e2ac0a8b4a91",
   "metadata": {
    "scrolled": true
   },
   "outputs": [
    {
     "name": "stdout",
     "output_type": "stream",
     "text": [
      "Forme du DataFrame : (1158, 4)\n",
      "  TYPE         COLOR       SHAPE     SURFACE\n",
      "0    I          Pale    Polypore      Smooth\n",
      "1    E         White      Convex      Smooth\n",
      "2    E  White-Yellow      Convex      Smooth\n",
      "3    E         Brown  Bellshaped  FlatScales\n",
      "4    E           NaN      Convex     Fibrous\n"
     ]
    }
   ],
   "source": [
    "#Q7\n",
    "chemin_fichier_csv = r'C:\\Users\\ilyes\\Desktop\\ProjetIa\\champignons.csv'\n",
    "\n",
    "champignons = pd.read_csv(chemin_fichier_csv)\n",
    "\n",
    "print(f\"Forme du DataFrame : {champignons.shape}\")\n",
    "\n",
    "print(champignons.head())"
   ]
  },
  {
   "cell_type": "markdown",
   "id": "061d1a0b-770e-4702-b4ca-c83e728261ab",
   "metadata": {},
   "source": [
    "Question 8 : Commencer par inspecter les données de cette colonne via la méthode value_counts()."
   ]
  },
  {
   "cell_type": "code",
   "execution_count": 3,
   "id": "5d923ddb-eafe-43b5-b5fb-6cf62465c769",
   "metadata": {},
   "outputs": [
    {
     "name": "stdout",
     "output_type": "stream",
     "text": [
      "TYPE\n",
      "E      515\n",
      "P      404\n",
      "I      228\n",
      "NaN     11\n",
      "Name: count, dtype: int64\n"
     ]
    }
   ],
   "source": [
    "#Q8\n",
    "edible_compteur = champignons['TYPE'].value_counts(dropna=False)\n",
    "\n",
    "print(edible_compteur)\n"
   ]
  },
  {
   "cell_type": "markdown",
   "id": "5839eab0-bb1b-4ecf-8131-a0916c339386",
   "metadata": {},
   "source": [
    "Question 9 : remplacer les valeur \"E\",\"I\" et \"P\" par 0,1 et 2."
   ]
  },
  {
   "cell_type": "code",
   "execution_count": 4,
   "id": "677ad8d6-5c67-414f-901e-d51869055de3",
   "metadata": {},
   "outputs": [
    {
     "name": "stdout",
     "output_type": "stream",
     "text": [
      "   TYPE         COLOR       SHAPE     SURFACE\n",
      "0   1.0          Pale    Polypore      Smooth\n",
      "1   0.0         White      Convex      Smooth\n",
      "2   0.0  White-Yellow      Convex      Smooth\n",
      "3   0.0         Brown  Bellshaped  FlatScales\n",
      "4   0.0           NaN      Convex     Fibrous\n"
     ]
    }
   ],
   "source": [
    "#Q9\n",
    "champignons['TYPE'] = champignons['TYPE'].replace({'E': 0, 'I': 1, 'P': 2})\n",
    "\n",
    "print(champignons.head())"
   ]
  },
  {
   "cell_type": "markdown",
   "id": "aee1453c-57c8-45e1-aece-8659c42ffa03",
   "metadata": {},
   "source": [
    "Question 10 : remplacer les valeurs manquantes par -1"
   ]
  },
  {
   "cell_type": "code",
   "execution_count": 5,
   "id": "7acadf4c-d102-4533-970d-9cc849c43901",
   "metadata": {},
   "outputs": [
    {
     "name": "stdout",
     "output_type": "stream",
     "text": [
      "TYPE\n",
      " 0.0    515\n",
      " 2.0    404\n",
      " 1.0    228\n",
      "-1.0     11\n",
      "Name: count, dtype: int64\n"
     ]
    }
   ],
   "source": [
    "#Q10\n",
    "\n",
    "champignons['TYPE'] = champignons['TYPE'].fillna(-1)\n",
    "\n",
    "new_edible_compteur = champignons['TYPE'].value_counts(dropna=False)\n",
    "\n",
    "print(new_edible_compteur)"
   ]
  },
  {
   "cell_type": "markdown",
   "id": "ca9c0f32-3fe0-4672-b045-79bf10541711",
   "metadata": {},
   "source": [
    "Question 11 : En consultant la documentation, comprendre ce que fait cette expression."
   ]
  },
  {
   "cell_type": "code",
   "execution_count": 6,
   "id": "fb391f93-49d8-4b4d-bee5-f7cbe6e23141",
   "metadata": {},
   "outputs": [],
   "source": [
    "# pd . unique ( champignons [ \" Shape \" ]. str. split ( \" -\" ). explode (). dropna ())\n",
    "\n",
    "# cette expression prend la colonne \"Shape\" du DataFrame champignons, la divise en sous-chaînes à chaque occurrence du caractère \"-\", \n",
    "# puis la transforme en une série avec des valeurs individuelles. Ensuite, elle élimine les valeurs nulles et renvoie la liste de \n",
    "# toutes les valeurs uniques présentes dans cette colonne après cette transformation. Cela permet d'obtenir une liste complète de \n",
    "# toutes les formes possibles de champignons."
   ]
  },
  {
   "cell_type": "markdown",
   "id": "dfbab53e-7132-44ca-9c91-d591420f8509",
   "metadata": {},
   "source": [
    "Question 12 : Ajout d'une nouvelle colonne remplie par des 0 et des 1"
   ]
  },
  {
   "cell_type": "markdown",
   "id": "86ca2499-baa5-4c00-892e-32b542f71256",
   "metadata": {},
   "source": [
    "Question 13 : Meme chose pour la colonne surface (On factorise au maximum). On supprime la colonne shape et surface"
   ]
  },
  {
   "cell_type": "code",
   "execution_count": 7,
   "id": "7d8f5aa9-3538-479c-9ef0-9be8fd380e68",
   "metadata": {},
   "outputs": [
    {
     "name": "stdout",
     "output_type": "stream",
     "text": [
      "   TYPE         COLOR       SHAPE     SURFACE  SHAPE_Polypore  SHAPE_Convex  \\\n",
      "0   1.0          Pale    Polypore      Smooth               1             0   \n",
      "1   0.0         White      Convex      Smooth               0             1   \n",
      "2   0.0  White-Yellow      Convex      Smooth               0             1   \n",
      "3   0.0         Brown  Bellshaped  FlatScales               0             0   \n",
      "4   0.0           NaN      Convex     Fibrous               0             1   \n",
      "\n",
      "   SHAPE_Bellshaped  SHAPE_Depressed  SHAPE_CupFungi  SHAPE_CoralFungi  ...  \\\n",
      "0                 0                0               0                 0  ...   \n",
      "1                 0                0               0                 0  ...   \n",
      "2                 0                0               0                 0  ...   \n",
      "3                 1                0               0                 0  ...   \n",
      "4                 0                0               0                 0  ...   \n",
      "\n",
      "   SURFACE_Silky  SURFACE_Velvety  SURFACE_AlanRockefeller  \\\n",
      "0              0                0                        0   \n",
      "1              0                0                        0   \n",
      "2              0                0                        0   \n",
      "3              0                0                        0   \n",
      "4              0                0                        0   \n",
      "\n",
      "   SURFACE_Coltriciaperennis  SURFACE_KymNicolson  SURFACE_AnnieWeissman  \\\n",
      "0                          0                    0                      0   \n",
      "1                          0                    0                      0   \n",
      "2                          0                    0                      0   \n",
      "3                          0                    0                      0   \n",
      "4                          0                    0                      0   \n",
      "\n",
      "   SURFACE_Ganodermaapplanatum  SURFACE_RonPastorino  \\\n",
      "0                            0                     0   \n",
      "1                            0                     0   \n",
      "2                            0                     0   \n",
      "3                            0                     0   \n",
      "4                            0                     0   \n",
      "\n",
      "   SURFACE_chezaaro(AaronS)  SURFACE_RockyHoughtby  \n",
      "0                         0                      0  \n",
      "1                         0                      0  \n",
      "2                         0                      0  \n",
      "3                         0                      0  \n",
      "4                         0                      0  \n",
      "\n",
      "[5 rows x 63 columns]\n",
      "Taille du DataFrame après suppression : (1158, 61)\n"
     ]
    }
   ],
   "source": [
    "#Q12-13\n",
    "\n",
    "import warnings\n",
    "warnings.filterwarnings(\"ignore\")\n",
    "\n",
    "def ajout_indicateur_colonne(df, nom_colonne):\n",
    "    valeur_unique = pd.unique(df[nom_colonne].str.split(\"-\").explode().dropna())\n",
    "    \n",
    "    for value in valeur_unique:\n",
    "        df[f\"{nom_colonne}_{value}\"] = df[nom_colonne].str.contains(value, na=False).astype(int)\n",
    "\n",
    "ajout_indicateur_colonne(champignons, \"SHAPE\")\n",
    "\n",
    "ajout_indicateur_colonne(champignons, \"SURFACE\")\n",
    "\n",
    "print(champignons.head())\n",
    "\n",
    "champignons = champignons.drop(['SHAPE', 'SURFACE'], axis=1)\n",
    "\n",
    "print(f\"Taille du DataFrame après suppression : {champignons.shape}\")"
   ]
  },
  {
   "cell_type": "markdown",
   "id": "4df9d2f1-c41f-456d-ac63-1d4a80721e95",
   "metadata": {},
   "source": [
    "Question 14 : la liste des couleurs individuelles présentes dans notre jeu de donnée."
   ]
  },
  {
   "cell_type": "code",
   "execution_count": 8,
   "id": "4d8603a0-f1c5-4b80-b169-9658a9ca809d",
   "metadata": {},
   "outputs": [
    {
     "name": "stdout",
     "output_type": "stream",
     "text": [
      "['Pale' 'White' 'Yellow' 'Brown' 'Pink' 'Purple' 'Tan' 'Orange' 'Gray'\n",
      " 'Red' 'Black' 'Blue' 'Green' 'Violet' 'Lilac']\n",
      "Nombre total de couleurs uniques : 15\n"
     ]
    }
   ],
   "source": [
    "#Q14\n",
    "\n",
    "couleurs_individuelles = pd.unique(champignons[\"COLOR\"].str.split(\"-\").explode().dropna())\n",
    "\n",
    "print(couleurs_individuelles)\n",
    "\n",
    "print(f\"Nombre total de couleurs uniques : {len(couleurs_individuelles)}\")"
   ]
  },
  {
   "cell_type": "markdown",
   "id": "0e0ba4dc-2858-43e1-99bf-4900f8e1533b",
   "metadata": {},
   "source": [
    "Question 15 : création d'un DataFrame comportant 4 colonnes."
   ]
  },
  {
   "cell_type": "code",
   "execution_count": 9,
   "id": "dde6e946-1062-464f-9c5b-7da98ff40a33",
   "metadata": {},
   "outputs": [
    {
     "name": "stdout",
     "output_type": "stream",
     "text": [
      "     Color    R    G    B\n",
      "0     Pale  240  221  215\n",
      "1    White  255  255  255\n",
      "2   Yellow  255  255    0\n",
      "3    Brown  165   42   42\n",
      "4     Pink  255  192  203\n",
      "5   Purple  128    0  128\n",
      "6      Tan  210  180  140\n",
      "7   Orange  255  165    0\n",
      "8     Gray  128  128  128\n",
      "9      Red  255    0    0\n",
      "10   Black    0    0    0\n",
      "11   Green    0  128    0\n",
      "12    Blue    0    0  255\n",
      "13  Violet  238  130  238\n",
      "14   Lilac  200  162  200\n"
     ]
    }
   ],
   "source": [
    "#Q15\n",
    "\n",
    "colors_list = [\n",
    "    {\"Color\": \"Pale\", \"R\": 240, \"G\": 221, \"B\": 215},\n",
    "    {\"Color\": \"White\", \"R\": 255, \"G\": 255, \"B\": 255},\n",
    "    {\"Color\": \"Yellow\", \"R\": 255, \"G\": 255, \"B\": 0},\n",
    "    {\"Color\": \"Brown\", \"R\": 165, \"G\": 42, \"B\": 42},\n",
    "    {\"Color\": \"Pink\", \"R\": 255, \"G\": 192, \"B\": 203},\n",
    "    {\"Color\": \"Purple\", \"R\": 128, \"G\": 0, \"B\": 128},\n",
    "    {\"Color\": \"Tan\", \"R\": 210, \"G\": 180, \"B\": 140},\n",
    "    {\"Color\": \"Orange\", \"R\": 255, \"G\": 165, \"B\": 0},\n",
    "    {\"Color\": \"Gray\", \"R\": 128, \"G\": 128, \"B\": 128},\n",
    "    {\"Color\": \"Red\", \"R\": 255, \"G\": 0, \"B\": 0},\n",
    "    {\"Color\": \"Black\", \"R\": 0, \"G\": 0, \"B\": 0}, #Dark\n",
    "    {\"Color\": \"Green\", \"R\": 0, \"G\": 128, \"B\": 0},\n",
    "    {\"Color\": \"Blue\", \"R\": 0, \"G\": 0, \"B\": 255},\n",
    "    {\"Color\": \"Violet\", \"R\": 238, \"G\": 130, \"B\": 238},\n",
    "    {\"Color\": \"Lilac\", \"R\": 200, \"G\": 162, \"B\": 200}\n",
    "]\n",
    "\n",
    "colors_df = pd.DataFrame(colors_list)\n",
    "\n",
    "print(colors_df)"
   ]
  },
  {
   "cell_type": "markdown",
   "id": "bedf7e48-c8f3-4c74-8944-1d700844c9aa",
   "metadata": {},
   "source": [
    "Question 16 : Le DataFrame colors avec une seule colonne , qui contient le nom de chaque combinaison unique de couleur"
   ]
  },
  {
   "cell_type": "code",
   "execution_count": 10,
   "id": "ac67e4b3-b786-4464-a6c3-deb747803ba9",
   "metadata": {},
   "outputs": [
    {
     "name": "stdout",
     "output_type": "stream",
     "text": [
      "   Combined_Color\n",
      "0    White-Yellow\n",
      "1     White-Brown\n",
      "2      Pink-Brown\n",
      "3    Purple-Brown\n",
      "4      White-Pale\n",
      "..            ...\n",
      "90     Green-Pink\n",
      "91     Gray-White\n",
      "92       Red-Pale\n",
      "93    Gray-Yellow\n",
      "94     Purple-Red\n",
      "\n",
      "[95 rows x 1 columns]\n"
     ]
    }
   ],
   "source": [
    "#Q16\n",
    "\n",
    "couleurs_combinees = champignons[champignons['COLOR'].str.count('-') > 0]\n",
    "\n",
    "combinaisons_uniques = couleurs_combinees['COLOR'].unique()\n",
    "\n",
    "colors = pd.DataFrame({'Combined_Color': combinaisons_uniques})\n",
    "\n",
    "print(colors)"
   ]
  },
  {
   "cell_type": "markdown",
   "id": "ea1e418d-ed32-4e95-b26e-2528e4ac0f6a",
   "metadata": {},
   "source": [
    "Question 17 : compléter colors avec trois colonnes \"R\" \"G\" \"B\""
   ]
  },
  {
   "cell_type": "code",
   "execution_count": 11,
   "id": "93c5974f-f3a0-4a20-849b-ae617abf755e",
   "metadata": {},
   "outputs": [
    {
     "name": "stdout",
     "output_type": "stream",
     "text": [
      "   Combined_Color  R_mean  G_mean  B_mean\n",
      "0    White-Yellow   255.0   255.0   127.5\n",
      "1     Pink-Yellow   255.0   223.5   101.5\n",
      "2     Pale-Yellow   247.5   238.0   107.5\n",
      "3    Brown-Yellow   210.0   148.5    21.0\n",
      "4     Gray-Yellow   191.5   191.5    64.0\n",
      "..            ...     ...     ...     ...\n",
      "90    Brown-Green    82.5    85.0    21.0\n",
      "91     Gray-Green    64.0   128.0    64.0\n",
      "92   Orange-Green   127.5   146.5     0.0\n",
      "93   Yellow-Green   127.5   191.5     0.0\n",
      "94     Blue-Green     0.0    64.0   127.5\n",
      "\n",
      "[95 rows x 4 columns]\n"
     ]
    }
   ],
   "source": [
    "#Q17\n",
    "\n",
    "colors['Color1'] = colors['Combined_Color'].str.split('-').str.get(0)\n",
    "colors['Color2'] = colors['Combined_Color'].str.split('-').str.get(1)\n",
    "\n",
    "merge_1 = colors.merge(colors_df, left_on='Color1', right_on='Color', suffixes=('', '_1'))\n",
    "merge_2 = merge_1.merge(colors_df, left_on='Color2', right_on='Color', suffixes=('', '_2'))\n",
    "\n",
    "merge_2['R_mean'] = merge_2[['R', 'R_2']].mean(axis=1)\n",
    "merge_2['G_mean'] = merge_2[['G', 'G_2']].mean(axis=1)\n",
    "merge_2['B_mean'] = merge_2[['B', 'B_2']].mean(axis=1)\n",
    "\n",
    "colors = merge_2[['Combined_Color', 'R_mean', 'G_mean', 'B_mean']]\n",
    "\n",
    "print(colors)"
   ]
  },
  {
   "cell_type": "markdown",
   "id": "880bbf50-7392-4303-81e8-d0eb37256d80",
   "metadata": {},
   "source": [
    "Question 18 : Compléter champignons avec trois couleur , supression de la colonne Color , donner des valeur pour les NA"
   ]
  },
  {
   "cell_type": "code",
   "execution_count": 12,
   "id": "e50cada8-6daa-4dad-a618-e756f850457a",
   "metadata": {},
   "outputs": [
    {
     "name": "stdout",
     "output_type": "stream",
     "text": [
      "      TYPE  SHAPE_Polypore  SHAPE_Convex  SHAPE_Bellshaped  SHAPE_Depressed  \\\n",
      "0      1.0               1             0                 0                0   \n",
      "1      0.0               0             1                 0                0   \n",
      "2      0.0               0             1                 0                0   \n",
      "3      0.0               0             0                 1                0   \n",
      "4      0.0               0             1                 0                0   \n",
      "...    ...             ...           ...               ...              ...   \n",
      "1153   1.0               0             0                 0                0   \n",
      "1154   1.0               0             0                 0                0   \n",
      "1155   1.0               0             0                 0                0   \n",
      "1156   1.0               0             0                 0                0   \n",
      "1157   0.0               0             1                 0                0   \n",
      "\n",
      "      SHAPE_CupFungi  SHAPE_CoralFungi  SHAPE_Conical  SHAPE_SiddarthMachado  \\\n",
      "0                  0                 0              0                      0   \n",
      "1                  0                 0              0                      0   \n",
      "2                  0                 0              0                      0   \n",
      "3                  0                 0              0                      0   \n",
      "4                  0                 0              0                      0   \n",
      "...              ...               ...            ...                    ...   \n",
      "1153               0                 1              0                      0   \n",
      "1154               0                 1              0                      0   \n",
      "1155               0                 1              0                      0   \n",
      "1156               0                 1              0                      0   \n",
      "1157               0                 0              0                      0   \n",
      "\n",
      "      SHAPE_harum.koh  ...  SURFACE_Coltriciaperennis  SURFACE_KymNicolson  \\\n",
      "0                   0  ...                          0                    0   \n",
      "1                   0  ...                          0                    0   \n",
      "2                   0  ...                          0                    0   \n",
      "3                   0  ...                          0                    0   \n",
      "4                   0  ...                          0                    0   \n",
      "...               ...  ...                        ...                  ...   \n",
      "1153                0  ...                          0                    0   \n",
      "1154                0  ...                          0                    0   \n",
      "1155                0  ...                          0                    0   \n",
      "1156                0  ...                          0                    0   \n",
      "1157                0  ...                          0                    0   \n",
      "\n",
      "      SURFACE_AnnieWeissman  SURFACE_Ganodermaapplanatum  \\\n",
      "0                         0                            0   \n",
      "1                         0                            0   \n",
      "2                         0                            0   \n",
      "3                         0                            0   \n",
      "4                         0                            0   \n",
      "...                     ...                          ...   \n",
      "1153                      0                            0   \n",
      "1154                      0                            0   \n",
      "1155                      0                            0   \n",
      "1156                      0                            0   \n",
      "1157                      0                            0   \n",
      "\n",
      "      SURFACE_RonPastorino  SURFACE_chezaaro(AaronS)  SURFACE_RockyHoughtby  \\\n",
      "0                        0                         0                      0   \n",
      "1                        0                         0                      0   \n",
      "2                        0                         0                      0   \n",
      "3                        0                         0                      0   \n",
      "4                        0                         0                      0   \n",
      "...                    ...                       ...                    ...   \n",
      "1153                     0                         0                      0   \n",
      "1154                     0                         0                      0   \n",
      "1155                     0                         0                      0   \n",
      "1156                     0                         0                      0   \n",
      "1157                     0                         0                      0   \n",
      "\n",
      "          R      G      B  \n",
      "0    -255.0 -255.0 -255.0  \n",
      "1    -255.0 -255.0 -255.0  \n",
      "2     255.0  255.0  127.5  \n",
      "3    -255.0 -255.0 -255.0  \n",
      "4    -255.0 -255.0 -255.0  \n",
      "...     ...    ...    ...  \n",
      "1153  127.5  127.5  127.5  \n",
      "1154 -255.0 -255.0 -255.0  \n",
      "1155 -255.0 -255.0 -255.0  \n",
      "1156 -255.0 -255.0 -255.0  \n",
      "1157   82.5   21.0   21.0  \n",
      "\n",
      "[1158 rows x 63 columns]\n"
     ]
    }
   ],
   "source": [
    "#Q18\n",
    "\n",
    "champignons = champignons.merge(colors[['Combined_Color', 'R_mean', 'G_mean', 'B_mean']], how='left', left_on='COLOR', right_on='Combined_Color')\n",
    "\n",
    "champignons.rename(columns={'R_mean': 'R', 'G_mean': 'G', 'B_mean': 'B'}, inplace=True)\n",
    "\n",
    "champignons.drop(columns=['COLOR', 'Combined_Color'], inplace=True)\n",
    "\n",
    "champignons[['R', 'G', 'B']] = champignons[['R', 'G', 'B']].fillna(-255)\n",
    "\n",
    "print(champignons)\n"
   ]
  },
  {
   "cell_type": "code",
   "execution_count": 13,
   "id": "76f1efb2-33c4-476b-aa39-15f051071e83",
   "metadata": {},
   "outputs": [],
   "source": [
    "from sklearn.preprocessing import StandardScaler\n",
    "from sklearn.svm import SVC\n",
    "from sklearn.metrics import accuracy_score, confusion_matrix\n",
    "from sklearn.model_selection import train_test_split\n",
    "from sklearn.tree import DecisionTreeClassifier"
   ]
  },
  {
   "cell_type": "markdown",
   "id": "3a3471ec-0ee0-4274-9eb8-dd932635bbd4",
   "metadata": {},
   "source": [
    "Guestion 19 : Séparation de données en un jeu d'entrainement et de test."
   ]
  },
  {
   "cell_type": "code",
   "execution_count": 14,
   "id": "6f13a43a-cbcb-4982-81df-037e4e9b2b73",
   "metadata": {},
   "outputs": [
    {
     "name": "stdout",
     "output_type": "stream",
     "text": [
      "Taille de l'ensemble d'entraînement : 868\n",
      "Taille de l'ensemble de test : 290\n"
     ]
    }
   ],
   "source": [
    "#Q19\n",
    "\n",
    "X = champignons.drop('TYPE', axis=1) \n",
    "y = champignons['TYPE'] \n",
    "\n",
    "X_train, X_test, y_train, y_test = train_test_split(X, y, test_size=0.25, random_state=1)\n",
    "\n",
    "print(\"Taille de l'ensemble d'entraînement :\", len(X_train))\n",
    "print(\"Taille de l'ensemble de test :\", len(X_test))"
   ]
  },
  {
   "cell_type": "code",
   "execution_count": 15,
   "id": "3ee629f6-eeaa-41bb-86aa-9c8509aca9de",
   "metadata": {},
   "outputs": [],
   "source": [
    "#Question 20 : Entrainer le model SVC"
   ]
  },
  {
   "cell_type": "code",
   "execution_count": 16,
   "id": "957c44ee-da00-4f59-90cf-0dae3ae7c610",
   "metadata": {},
   "outputs": [
    {
     "name": "stdout",
     "output_type": "stream",
     "text": [
      "Score de précision: 0.4413793103448276\n",
      "Matrice de confusion:\n",
      "[[  0   1   0   0]\n",
      " [  0 128   0   0]\n",
      " [  0  49   0   0]\n",
      " [  0 112   0   0]]\n"
     ]
    }
   ],
   "source": [
    "#Q20\n",
    "\n",
    "model = SVC(random_state=1)\n",
    "model.fit(X_train, y_train)\n",
    "\n",
    "y_pred = model.predict(X_test)\n",
    "\n",
    "accuracy = accuracy_score(y_test, y_pred)\n",
    "print(f\"Score de précision: {accuracy}\")\n",
    "\n",
    "conf_matrice = confusion_matrix(y_test, y_pred)\n",
    "print(\"Matrice de confusion:\")\n",
    "print(conf_matrice)"
   ]
  },
  {
   "cell_type": "code",
   "execution_count": 17,
   "id": "1656ba1c-b6d7-4011-95a7-d56530dc61cf",
   "metadata": {},
   "outputs": [],
   "source": [
    "#Question 21 : reprendre la question 20 en standardisant les colonnes dans un premier temps."
   ]
  },
  {
   "cell_type": "code",
   "execution_count": 18,
   "id": "10c8800b-b982-4eba-8868-eb4acf1a3cab",
   "metadata": {},
   "outputs": [
    {
     "name": "stdout",
     "output_type": "stream",
     "text": [
      "Score de précision: 0.5172413793103449\n",
      "Matrice de confusion:\n",
      "[[  1   0   0   0]\n",
      " [  0 102   1  25]\n",
      " [  0  28   1  20]\n",
      " [  0  60   6  46]]\n"
     ]
    }
   ],
   "source": [
    "#Q21\n",
    "\n",
    "scaler = StandardScaler()\n",
    "X_train_echelle = scaler.fit_transform(X_train)\n",
    "X_test_echelle = scaler.transform(X_test)\n",
    "\n",
    "model = SVC(random_state=1)\n",
    "model.fit(X_train_echelle, y_train)\n",
    "\n",
    "y_pred = model.predict(X_test_echelle)\n",
    "\n",
    "accuracy = accuracy_score(y_test, y_pred)\n",
    "print(f\"Score de précision: {accuracy}\")\n",
    "\n",
    "conf_matrice = confusion_matrix(y_test, y_pred)\n",
    "print(\"Matrice de confusion:\")\n",
    "print(conf_matrice)"
   ]
  },
  {
   "cell_type": "markdown",
   "id": "05c7b476-1ce3-4463-a0b4-3bf5c2b52e54",
   "metadata": {},
   "source": [
    "Question 22 : arbre de décision"
   ]
  },
  {
   "cell_type": "code",
   "execution_count": 19,
   "id": "ad45b759-8995-40c5-a90c-1f8a76064396",
   "metadata": {},
   "outputs": [
    {
     "name": "stdout",
     "output_type": "stream",
     "text": [
      "Score précision (non standarisée): 0.49310344827586206\n",
      "Matrice de confusion (données non standarisée):\n",
      "[[  0   1   0   0]\n",
      " [  0 124   0   4]\n",
      " [  0  40   0   9]\n",
      " [  0  92   1  19]]\n",
      "Score précision (non standarisée): 0.49310344827586206\n",
      "Matrice de confusion (donées standarisée):\n",
      "[[  0   1   0   0]\n",
      " [  0 124   0   4]\n",
      " [  0  40   0   9]\n",
      " [  0  92   1  19]]\n"
     ]
    }
   ],
   "source": [
    "#Q22\n",
    "\n",
    "tree_model = DecisionTreeClassifier(max_depth=3, random_state=1)\n",
    "tree_model.fit(X_train, y_train)\n",
    "\n",
    "y_pred_tree = tree_model.predict(X_test)\n",
    "\n",
    "accuracy_tree = accuracy_score(y_test, y_pred_tree)\n",
    "print(f\"Score précision (non standarisée): {accuracy_tree}\")\n",
    "\n",
    "conf_matrice_arbre = confusion_matrix(y_test, y_pred_tree)\n",
    "print(\"Matrice de confusion (données non standarisée):\")\n",
    "print(conf_matrice_arbre)\n",
    "\n",
    "tree_model.fit(X_train_echelle, y_train)\n",
    "\n",
    "y_pred_tree_echelle = tree_model.predict(X_test_echelle)\n",
    "\n",
    "accuracy_tree_echelle = accuracy_score(y_test, y_pred_tree_echelle)\n",
    "print(f\"Score précision (non standarisée): {accuracy_tree_echelle}\")\n",
    "\n",
    "conf_matrice_arbre_echelle = confusion_matrix(y_test, y_pred_tree_echelle)\n",
    "print(\"Matrice de confusion (donées standarisée):\")\n",
    "print(conf_matrice_arbre_echelle)"
   ]
  },
  {
   "cell_type": "markdown",
   "id": "d67f88e0-8869-44df-b6ec-65c5ea016d2d",
   "metadata": {},
   "source": [
    "Question 23 : la représentation graphique de l'arbre de décision"
   ]
  },
  {
   "cell_type": "code",
   "execution_count": 20,
   "id": "dfd3a70c-a964-45d3-afe5-c79d068df3e9",
   "metadata": {},
   "outputs": [
    {
     "data": {
      "text/plain": [
       "'Source.gv.pdf'"
      ]
     },
     "execution_count": 20,
     "metadata": {},
     "output_type": "execute_result"
    }
   ],
   "source": [
    "#Q23\n",
    "\n",
    "from sklearn.tree import export_graphviz\n",
    "import graphviz\n",
    "\n",
    "feature_names = champignons.columns.drop('TYPE')\n",
    "\n",
    "export_graphviz(tree_model, out_file=\"arbre_decision.dot\", \n",
    "                feature_names=feature_names, \n",
    "                filled=True)\n",
    "\n",
    "with open(\"arbre_decision.dot\") as f:\n",
    "    dot_graph = f.read()\n",
    "graphviz.Source(dot_graph).view()"
   ]
  },
  {
   "cell_type": "markdown",
   "id": "8c06c789-a684-464c-847c-9fa559c7930e",
   "metadata": {},
   "source": [
    "Question 24 : sauvegarder chacun des deux modèles dans un fichier"
   ]
  },
  {
   "cell_type": "code",
   "execution_count": 21,
   "id": "373f086d-498d-4d79-9ff5-f85f5a3040ab",
   "metadata": {},
   "outputs": [
    {
     "data": {
      "text/plain": [
       "['arbre_decision.joblib']"
      ]
     },
     "execution_count": 21,
     "metadata": {},
     "output_type": "execute_result"
    }
   ],
   "source": [
    "#Q24\n",
    "\n",
    "from joblib import dump\n",
    "\n",
    "dump(tree_model, 'arbre_decision.joblib')"
   ]
  }
 ],
 "metadata": {
  "kernelspec": {
   "display_name": "Python 3 (ipykernel)",
   "language": "python",
   "name": "python3"
  },
  "language_info": {
   "codemirror_mode": {
    "name": "ipython",
    "version": 3
   },
   "file_extension": ".py",
   "mimetype": "text/x-python",
   "name": "python",
   "nbconvert_exporter": "python",
   "pygments_lexer": "ipython3",
   "version": "3.11.7"
  }
 },
 "nbformat": 4,
 "nbformat_minor": 5
}
